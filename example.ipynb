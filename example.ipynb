{
 "cells": [
  {
   "cell_type": "code",
   "execution_count": 1,
   "id": "c96fbf8b",
   "metadata": {},
   "outputs": [],
   "source": [
    "from kVecDb import kVecDb"
   ]
  },
  {
   "cell_type": "code",
   "execution_count": 2,
   "id": "882c1021",
   "metadata": {},
   "outputs": [],
   "source": [
    "DB = kVecDb(host=\"localhost\", port=1063)\n",
    "\n",
    "DB.reset()"
   ]
  },
  {
   "cell_type": "code",
   "execution_count": 3,
   "id": "740e8618",
   "metadata": {},
   "outputs": [],
   "source": [
    "sentences = ['This framework generates embeddings for each input sentence',\n",
    "    'Sentences are passed as a list of string.',\n",
    "    'The quick brown fox jumps over the lazy dog.']\n",
    "\n",
    "DB.put(sentences, tags=[[], [], []])"
   ]
  },
  {
   "cell_type": "code",
   "execution_count": 4,
   "id": "728c0763",
   "metadata": {},
   "outputs": [
    {
     "data": {
      "text/html": [
       "<div>\n",
       "<style scoped>\n",
       "    .dataframe tbody tr th:only-of-type {\n",
       "        vertical-align: middle;\n",
       "    }\n",
       "\n",
       "    .dataframe tbody tr th {\n",
       "        vertical-align: top;\n",
       "    }\n",
       "\n",
       "    .dataframe thead th {\n",
       "        text-align: right;\n",
       "    }\n",
       "</style>\n",
       "<table border=\"1\" class=\"dataframe\">\n",
       "  <thead>\n",
       "    <tr style=\"text-align: right;\">\n",
       "      <th></th>\n",
       "      <th>data</th>\n",
       "      <th>sim</th>\n",
       "    </tr>\n",
       "  </thead>\n",
       "  <tbody>\n",
       "    <tr>\n",
       "      <th>0</th>\n",
       "      <td>b'Sentences are passed as a list of string.'</td>\n",
       "      <td>0.773860</td>\n",
       "    </tr>\n",
       "    <tr>\n",
       "      <th>1</th>\n",
       "      <td>b'This framework generates embeddings for each...</td>\n",
       "      <td>0.285676</td>\n",
       "    </tr>\n",
       "    <tr>\n",
       "      <th>2</th>\n",
       "      <td>b'The quick brown fox jumps over the lazy dog.'</td>\n",
       "      <td>0.082196</td>\n",
       "    </tr>\n",
       "  </tbody>\n",
       "</table>\n",
       "</div>"
      ],
      "text/plain": [
       "                                                data       sim\n",
       "0       b'Sentences are passed as a list of string.'  0.773860\n",
       "1  b'This framework generates embeddings for each...  0.285676\n",
       "2    b'The quick brown fox jumps over the lazy dog.'  0.082196"
      ]
     },
     "execution_count": 4,
     "metadata": {},
     "output_type": "execute_result"
    }
   ],
   "source": [
    "DB.find(\"What is passed as list of strings?\")"
   ]
  }
 ],
 "metadata": {
  "kernelspec": {
   "display_name": "Python 3 (ipykernel)",
   "language": "python",
   "name": "python3"
  },
  "language_info": {
   "codemirror_mode": {
    "name": "ipython",
    "version": 3
   },
   "file_extension": ".py",
   "mimetype": "text/x-python",
   "name": "python",
   "nbconvert_exporter": "python",
   "pygments_lexer": "ipython3",
   "version": "3.10.3"
  }
 },
 "nbformat": 4,
 "nbformat_minor": 5
}
